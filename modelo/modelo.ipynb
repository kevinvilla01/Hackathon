{
 "cells": [
  {
   "cell_type": "markdown",
   "metadata": {},
   "source": [
    "# Modelo de prediccion FAKE NEWS"
   ]
  },
  {
   "cell_type": "code",
   "execution_count": 2,
   "metadata": {},
   "outputs": [
    {
     "ename": "ImportError",
     "evalue": "cannot import name 'pipeline' from 'tensorflow' (c:\\Users\\kevin\\AppData\\Local\\Programs\\Python\\Python311\\Lib\\site-packages\\tensorflow\\__init__.py)",
     "output_type": "error",
     "traceback": [
      "\u001b[1;31m---------------------------------------------------------------------------\u001b[0m",
      "\u001b[1;31mImportError\u001b[0m                               Traceback (most recent call last)",
      "Cell \u001b[1;32mIn[2], line 3\u001b[0m\n\u001b[0;32m      1\u001b[0m \u001b[38;5;28;01mimport\u001b[39;00m \u001b[38;5;21;01mrequests\u001b[39;00m\n\u001b[0;32m      2\u001b[0m \u001b[38;5;28;01mfrom\u001b[39;00m \u001b[38;5;21;01mbs4\u001b[39;00m \u001b[38;5;28;01mimport\u001b[39;00m BeautifulSoup\n\u001b[1;32m----> 3\u001b[0m \u001b[38;5;28;01mfrom\u001b[39;00m \u001b[38;5;21;01mtensorflow\u001b[39;00m \u001b[38;5;28;01mimport\u001b[39;00m pipeline\n\u001b[0;32m      5\u001b[0m \u001b[38;5;66;03m# Scraping de datos\u001b[39;00m\n\u001b[0;32m      6\u001b[0m \u001b[38;5;28;01mdef\u001b[39;00m \u001b[38;5;21mscrape_data\u001b[39m(url):\n",
      "\u001b[1;31mImportError\u001b[0m: cannot import name 'pipeline' from 'tensorflow' (c:\\Users\\kevin\\AppData\\Local\\Programs\\Python\\Python311\\Lib\\site-packages\\tensorflow\\__init__.py)"
     ]
    }
   ],
   "source": [
    "import requests\n",
    "from bs4 import BeautifulSoup\n",
    "from tensorflow.huggingface.text_generation import pipeline\n",
    "\n",
    "# Scraping de datos\n",
    "def scrape_data(url):\n",
    "    response = requests.get(url)\n",
    "    soup = BeautifulSoup(response.text, 'html.parser')\n",
    "    content = soup.find_all('p')  # Extraer todos los párrafos\n",
    "    return ' '.join([p.text for p in content])\n",
    "\n",
    "# Generación de etiquetas\n",
    "def generate_tags(content):\n",
    "    generator = pipeline('text-generation', model='gpt-3')\n",
    "    tags = generator(content, max_length=50)  # Generar etiquetas\n",
    "    return tags\n",
    "\n",
    "# Clasificación de etiquetas\n",
    "def classify_tags(tags):\n",
    "    # Aquí va el modelo de clasificación\n",
    "    # Por simplicidad, se retorna un valor fijo\n",
    "    return \"verdadero\" if \"tag_relevante\" in tags else \"falso\"\n",
    "\n",
    "# Ejemplo de uso\n",
    "url = \"https://covid.ceaipsinaloa.org.mx/2020/07/16/falso-que-podria-darse-un-segundo-confinamiento-en-sinaloa/\"\n",
    "content = scrape_data(url)\n",
    "tags = generate_tags(content)\n",
    "result = classify_tags(tags)\n",
    "\n",
    "print(result)"
   ]
  },
  {
   "cell_type": "code",
   "execution_count": null,
   "metadata": {},
   "outputs": [],
   "source": []
  }
 ],
 "metadata": {
  "kernelspec": {
   "display_name": "Python 3",
   "language": "python",
   "name": "python3"
  },
  "language_info": {
   "codemirror_mode": {
    "name": "ipython",
    "version": 3
   },
   "file_extension": ".py",
   "mimetype": "text/x-python",
   "name": "python",
   "nbconvert_exporter": "python",
   "pygments_lexer": "ipython3",
   "version": "3.11.6"
  }
 },
 "nbformat": 4,
 "nbformat_minor": 2
}
