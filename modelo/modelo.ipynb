{
 "cells": [
  {
   "cell_type": "markdown",
   "metadata": {},
   "source": [
    "# Modelo de prediccion FAKE NEWS"
   ]
  },
  {
   "cell_type": "code",
   "execution_count": null,
   "metadata": {},
   "outputs": [],
   "source": [
    "import requests\n",
    "from bs4 import BeautifulSoup\n",
    "from transformers import pipeline\n",
    "\n",
    "# Scraping de datos\n",
    "def scrape_data(url):\n",
    "    response = requests.get(url)\n",
    "    soup = BeautifulSoup(response.text, 'html.parser')\n",
    "    content = soup.find_all('p')  # Extraer todos los párrafos\n",
    "    return ' '.join([p.text for p in content])\n",
    "\n",
    "# Generación de etiquetas\n",
    "def generate_tags(content):\n",
    "    generator = pipeline('text-generation', model='gpt-3')\n",
    "    tags = generator(content, max_length=50)  # Generar etiquetas\n",
    "    return tags\n",
    "\n",
    "# Clasificación de etiquetas\n",
    "def classify_tags(tags):\n",
    "    # Aquí va el modelo de clasificación\n",
    "    # Por simplicidad, se retorna un valor fijo\n",
    "    return \"verdadero\" if \"tag_relevante\" in tags else \"falso\"\n",
    "\n",
    "# Ejemplo de uso\n",
    "url = \"https://covid.ceaipsinaloa.org.mx/2020/07/16/falso-que-podria-darse-un-segundo-confinamiento-en-sinaloa/\"\n",
    "content = scrape_data(url)\n",
    "tags = generate_tags(content)\n",
    "result = classify_tags(tags)\n",
    "\n",
    "print(result)"
   ]
  }
 ],
 "metadata": {
  "kernelspec": {
   "display_name": "Python 3",
   "language": "python",
   "name": "python3"
  },
  "language_info": {
   "codemirror_mode": {
    "name": "ipython",
    "version": 3
   },
   "file_extension": ".py",
   "mimetype": "text/x-python",
   "name": "python",
   "nbconvert_exporter": "python",
   "pygments_lexer": "ipython3",
   "version": "3.11.6"
  }
 },
 "nbformat": 4,
 "nbformat_minor": 2
}
